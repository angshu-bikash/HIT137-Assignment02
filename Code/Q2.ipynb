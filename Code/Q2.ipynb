{
 "cells": [
  {
   "cell_type": "code",
   "execution_count": 1,
   "id": "9f34de66-68dd-4c2f-95fb-19984099391d",
   "metadata": {},
   "outputs": [
    {
     "name": "stdout",
     "output_type": "stream",
     "text": [
      "Requirement already satisfied: Pillow in c:\\users\\kedha\\anaconda3\\lib\\site-packages (10.3.0)\n"
     ]
    }
   ],
   "source": [
    "!pip install Pillow"
   ]
  },
  {
   "cell_type": "code",
   "execution_count": 9,
   "id": "87937dbb-3723-45ec-af4e-9fdd22993d9a",
   "metadata": {},
   "outputs": [
    {
     "name": "stdout",
     "output_type": "stream",
     "text": [
      "Sum of red pixel values: 242146596\n"
     ]
    }
   ],
   "source": [
    "from PIL import Image\n",
    "import numpy as np\n",
    "\n",
    "# Step 1: Load the image from the local path\n",
    "image_path = r'C:\\Users\\kedha\\Downloads\\chapter1.jpg'  # Use raw string 'r' to avoid path issues in Windows\n",
    "image = Image.open(image_path)\n",
    "image_data = np.array(image)\n",
    "\n",
    "# Step 2: Generate the number 'n'\n",
    "n = 5 # Example: Replace this with your logic to generate 'n'\n",
    "\n",
    "# Step 3: Modify the pixel values\n",
    "# Add the number 'n' to each of the RGB values (r+n, g+n, b+n)\n",
    "modified_image_data = image_data + n\n",
    "\n",
    "# Ensure that pixel values are within valid range (0 to 255)\n",
    "modified_image_data = np.clip(modified_image_data, 0, 255)\n",
    "\n",
    "# Step 4: Save the modified image\n",
    "modified_image = Image.fromarray(modified_image_data.astype('uint8'))\n",
    "modified_image.save(r'C:\\Users\\kedha\\Downloads\\chapter1out.jpg')  # Save the modified image in the same folder\n",
    "\n",
    "# Step 5: Calculate the sum of red pixel values\n",
    "red_sum = np.sum(modified_image_data[:,:,0])  # Red channel is the first channel in RGB\n",
    "print(\"Sum of red pixel values:\", red_sum)\n"
   ]
  },
  {
   "cell_type": "code",
   "execution_count": 11,
   "id": "2c23fcf7-9d09-46f0-8a81-c24e176c7d9b",
   "metadata": {},
   "outputs": [
    {
     "name": "stdout",
     "output_type": "stream",
     "text": [
      "Number string: 561984235270145785310\n",
      "Letter string: aAwwsktraYmnssfsqD\n",
      "Even numbers: [6, 8, 4, 2, 2, 0, 4, 8, 0]\n",
      "ASCII code decimal values for even numbers: [54, 56, 52, 50, 50, 48, 52, 56, 48]\n",
      "Uppercase letters: ['A', 'Y', 'D']\n",
      "ASCII code decimal values for uppercase letters: [65, 89, 68]\n"
     ]
    }
   ],
   "source": [
    "def separate_string(s):\n",
    "    number_string = ''.join([char for char in s if char.isdigit()])\n",
    "    letter_string = ''.join([char for char in s if char.isalpha()])\n",
    "    \n",
    "    return number_string, letter_string\n",
    "\n",
    "def convert_even_numbers_to_ascii(number_string):\n",
    "    even_numbers = [int(char) for char in number_string if int(char) % 2 == 0]\n",
    "    ascii_values = [ord(str(num)) for num in even_numbers]\n",
    "    return even_numbers, ascii_values\n",
    "\n",
    "def convert_uppercase_to_ascii(letter_string):\n",
    "    uppercase_letters = [char for char in letter_string if char.isupper()]\n",
    "    ascii_values = [ord(char) for char in uppercase_letters]\n",
    "    return uppercase_letters, ascii_values\n",
    "\n",
    "# Example input string\n",
    "s = '56aAww1984sktr235270aYmn145ss785fsq31D0'\n",
    "\n",
    "# Step 1: Separate numbers and letters\n",
    "number_string, letter_string = separate_string(s)\n",
    "print(\"Number string:\", number_string)\n",
    "print(\"Letter string:\", letter_string)\n",
    "\n",
    "# Step 2: Convert even numbers to ASCII code decimal values\n",
    "even_numbers, even_ascii_values = convert_even_numbers_to_ascii(number_string)\n",
    "print(\"Even numbers:\", even_numbers)\n",
    "print(\"ASCII code decimal values for even numbers:\", even_ascii_values)\n",
    "\n",
    "# Step 3: Convert uppercase letters to ASCII code decimal values\n",
    "uppercase_letters, uppercase_ascii_values = convert_uppercase_to_ascii(letter_string)\n",
    "print(\"Uppercase letters:\", uppercase_letters)\n",
    "print(\"ASCII code decimal values for uppercase letters:\", uppercase_ascii_values)"
   ]
  },
  {
   "cell_type": "code",
   "execution_count": 15,
   "id": "c6f551e9-3ab5-42d1-9eb6-a5e8e0b90ff4",
   "metadata": {},
   "outputs": [
    {
     "name": "stdout",
     "output_type": "stream",
     "text": [
      "Decrypted text: IM SELFISH IMPATIENT AND A LITTLE INSECURE I MAKE MISTAKES I AM OUT OF CONTROL ANDAT TIMES HARD TO HANDLE BUT IF YOU CANT HANDLE ME AT MY WORST THEN YOU SURE AS HELLDONT DESERVE ME AT MY BEST MARILYN MONROE\n"
     ]
    }
   ],
   "source": [
    "def decrypt_caesar_cipher(ciphered_text, shift):\n",
    "    decrypted_text = ''\n",
    "    for char in ciphered_text:\n",
    "        if char.isalpha():  # Only shift alphabetic characters\n",
    "            shift_base = 65 if char.isupper() else 97  # Uppercase and lowercase shift bases\n",
    "            # Shift the character backwards by 'shift' and wrap around within the alphabet\n",
    "            decrypted_text += chr((ord(char) - shift_base - shift) % 26 + shift_base)\n",
    "        else:\n",
    "            decrypted_text += char  # Keep non-alphabet characters unchanged\n",
    "    return decrypted_text\n",
    "\n",
    "# Example cryptogram text and shift key value\n",
    "ciphered_text = \"VZ FRYSVFU VZCNGVRAG NAQ N YVGGYR VAFRPHER V ZNXR ZVFGNXRF V NZ BHG BS PBAGEBY NAQNG GVZRF UNEQ GB UNAQYR OHG VS LBH PNAG UNAQYR ZR NG ZL JBEFG GURA LBH FHER NF URYYQBAG QRFREIR ZR NG ZL ORFG ZNEVYLA ZBAEBR\"\n",
    "shift_key = 13  # Caesar cipher shift value\n",
    "\n",
    "# Decrypt the text using the Caesar cipher with the given shift key\n",
    "decrypted_text = decrypt_caesar_cipher(ciphered_text, shift_key)\n",
    "print(\"Decrypted text:\", decrypted_text)"
   ]
  },
  {
   "cell_type": "code",
   "execution_count": null,
   "id": "42f44fb5-0796-4154-ac2d-8d21e74188dd",
   "metadata": {},
   "outputs": [],
   "source": []
  }
 ],
 "metadata": {
  "kernelspec": {
   "display_name": "Python 3 (ipykernel)",
   "language": "python",
   "name": "python3"
  },
  "language_info": {
   "codemirror_mode": {
    "name": "ipython",
    "version": 3
   },
   "file_extension": ".py",
   "mimetype": "text/x-python",
   "name": "python",
   "nbconvert_exporter": "python",
   "pygments_lexer": "ipython3",
   "version": "3.12.4"
  }
 },
 "nbformat": 4,
 "nbformat_minor": 5
}
