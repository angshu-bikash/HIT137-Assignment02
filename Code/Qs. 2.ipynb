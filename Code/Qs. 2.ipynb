{
 "cells": [
  {
   "cell_type": "markdown",
   "metadata": {},
   "source": [
    "### Finding the value to be added"
   ]
  },
  {
   "cell_type": "code",
   "execution_count": 13,
   "metadata": {},
   "outputs": [
    {
     "name": "stdout",
     "output_type": "stream",
     "text": [
      "117\n"
     ]
    }
   ],
   "source": [
    "import time\n",
    "\n",
    "current_time = int(time.time())\n",
    "\n",
    "generated_number = (current_time % 100) + 50\n",
    "\n",
    "if generated_number % 2 == 0: generated_number += 10\n",
    "\n",
    "print(generated_number)"
   ]
  },
  {
   "cell_type": "markdown",
   "metadata": {},
   "source": [
    "### Adding the number to the image"
   ]
  },
  {
   "cell_type": "code",
   "execution_count": null,
   "metadata": {},
   "outputs": [],
   "source": [
    "from PIL import Image\n",
    "\n",
    "# Load the image\n",
    "img = Image.open(r'C:\\Users\\ASUS\\Desktop\\Semester 1, 2\\HIT137 Software Now\\Assignment 2\\git\\HIT137-Assignment02\\chapter1.jpg')\n",
    "pixels = img.load()\n",
    "\n",
    "# Modify the pixels (r, g, b), adding the generated_number\n",
    "width, height = img.size\n",
    "for x in range(width):\n",
    "    for y in range(height):\n",
    "        r, g, b = pixels[x, y]\n",
    "        pixels[x, y] = (r + generated_number, g + generated_number, b + generated_number)\n",
    "\n",
    "# Save the new image\n",
    "img.save('chapter1out.png')\n",
    "\n",
    "#sum the red pixel values of new image\n",
    "red_sum = 0\n",
    "for x in range(width):\n",
    "    for y in range(height):\n",
    "        r, g, b = pixels[x, y]\n",
    "        red_sum += r\n",
    "\n",
    "# Output the sum of all red values\n",
    "print(red_sum)\n"
   ]
  }
 ],
 "metadata": {
  "language_info": {
   "name": "python"
  }
 },
 "nbformat": 4,
 "nbformat_minor": 2
}
