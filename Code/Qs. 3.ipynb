{
 "cells": [
  {
   "cell_type": "markdown",
   "metadata": {},
   "source": [
    "#### Github link: https://github.com/angshu-bikash/HIT137-Assignment02.git"
   ]
  },
  {
   "cell_type": "markdown",
   "metadata": {},
   "source": [
    "### Finding the key"
   ]
  },
  {
   "cell_type": "code",
   "execution_count": 1,
   "metadata": {},
   "outputs": [
    {
     "name": "stdout",
     "output_type": "stream",
     "text": [
      "13\n"
     ]
    }
   ],
   "source": [
    "total = 0\n",
    "\n",
    "for i in range(5):\n",
    "    for j in range(3):\n",
    "        if i + j == 5:  # Use '==' for comparison\n",
    "            total += i + j\n",
    "        else:\n",
    "            total -= i - j\n",
    "\n",
    "counter = 0\n",
    "\n",
    "# While loop\n",
    "while counter < 5:\n",
    "    if total < 13:\n",
    "        total += 1\n",
    "    elif total > 13:\n",
    "        total = 1\n",
    "    else:\n",
    "        counter += 2\n",
    "\n",
    "print(total)"
   ]
  },
  {
   "cell_type": "markdown",
   "metadata": {},
   "source": [
    "### Writing the decryption function\n",
    "\n",
    "A ceaser encryption is used so that letters remain in the alphabet range of A-Z or a-z, and any special characters remain unchanged  \n",
    "The main points here are:  \n",
    "1. adding the value of `key/total` to the ascii value  \n",
    "2. subtracting or adding 26 when it crosses the ascii value range of alphaneumeric  \n",
    "  \n",
    "Now, for decryption, we have to minus the value `kye/total` & if the value crosses the lower range, add 26 again, **SIMPLE!!**"
   ]
  },
  {
   "cell_type": "code",
   "execution_count": 2,
   "metadata": {},
   "outputs": [],
   "source": [
    "def decrypt(text, key):\n",
    "    decrypted_text = \"\"\n",
    "    \n",
    "    for char in text:\n",
    "        # shift the value by key's value if the character is a letter\n",
    "        if char.isalpha():  \n",
    "            shifted = ord(char) - key\n",
    "\n",
    "            #if it goes before 'a', wrap around by adding 26\n",
    "            if char.islower():\n",
    "                if shifted < ord('a'):\n",
    "                    shifted += 26\n",
    "            \n",
    "            #if it goes before 'a', wrap around by adding 26\n",
    "            elif char.isupper(): \n",
    "                if shifted < ord('A'):\n",
    "                    shifted += 26\n",
    "            \n",
    "            #convert shifted ASCII value back to character\n",
    "            decrypted_text += chr(shifted)  \n",
    "        else:\n",
    "            #non-alphabet characters remain unchanged\n",
    "            decrypted_text += char  \n",
    "\n",
    "    return decrypted_text\n"
   ]
  },
  {
   "cell_type": "markdown",
   "metadata": {},
   "source": [
    "### Encrypted error-prone code"
   ]
  },
  {
   "cell_type": "code",
   "execution_count": 3,
   "metadata": {},
   "outputs": [],
   "source": [
    "#encrypted code\n",
    "\n",
    "encrypted_code = \"\"\"\n",
    "tybony_inevoyr = 100\n",
    "zl_qvpg = {'xrl1': 'inyhr1', 'xrl2': 'inyhr2', 'xrl3': 'inyhr3'}\n",
    "\n",
    "qrs cebprff_ahzoref():\n",
    "    tybony tybony_inevoyr\n",
    "    ybpny_inevoyr = 5\n",
    "    ahzoref = [1, 2, 3, 4, 5]\n",
    "\n",
    "    juvyr ybpny_inevoyr > 0:\n",
    "        vs ybpny_inevoyr >= 0:\n",
    "            ahzoref.erzbir(ybpny_inevoyr)\n",
    "            ybpny_inevoyr -= 1\n",
    "\n",
    "    erghea ahzoref\n",
    "\n",
    "zl_frg = {1, 2, 3, 4, 5, 5, 4, 3, 2, 1}\n",
    "erfhvg = cebprff_ahzoref(ahzoref=zl_frg)\n",
    "\n",
    "qrs zbqvsl_qvpg():\n",
    "    ybpny_inevoyr = 10\n",
    "    zl_qvpg['xrl4'] = ybpny_inevoyr\n",
    "\n",
    "zbqvsl_qvpg(5)\n",
    "\n",
    "qrs hcqngr_tybony():\n",
    "    tybony tybony_inevoyr\n",
    "    tybony_inevoyr += 10\n",
    "\n",
    "sbe v va enatr(5):\n",
    "    cveag(v)\n",
    "    v += 1\n",
    "\n",
    "vs zl_frg vf abg Abar naq zl_qvpg['xrl4'] == 10:\n",
    "    cveag(\"pbaqvgba zrg!\")\n",
    "\n",
    "vs 5 abg va zl_qvpg:\n",
    "    cveag(\"5 abg sbhaq va gur qvpgvbanell\")\n",
    "\n",
    "cveag(tybony_inevoyr)\n",
    "cveag(zl_qvpg)\n",
    "cveag(zl_frg)\n",
    "\"\"\""
   ]
  },
  {
   "cell_type": "code",
   "execution_count": 4,
   "metadata": {},
   "outputs": [
    {
     "name": "stdout",
     "output_type": "stream",
     "text": [
      "\n",
      "global_varible = 100\n",
      "my_dict = {'key1': 'value1', 'key2': 'value2', 'key3': 'value3'}\n",
      "\n",
      "def process_numbers():\n",
      "    global global_varible\n",
      "    local_varible = 5\n",
      "    numbers = [1, 2, 3, 4, 5]\n",
      "\n",
      "    while local_varible > 0:\n",
      "        if local_varible >= 0:\n",
      "            numbers.remove(local_varible)\n",
      "            local_varible -= 1\n",
      "\n",
      "    return numbers\n",
      "\n",
      "my_set = {1, 2, 3, 4, 5, 5, 4, 3, 2, 1}\n",
      "resuit = process_numbers(numbers=my_set)\n",
      "\n",
      "def modify_dict():\n",
      "    local_varible = 10\n",
      "    my_dict['key4'] = local_varible\n",
      "\n",
      "modify_dict(5)\n",
      "\n",
      "def update_global():\n",
      "    global global_varible\n",
      "    global_varible += 10\n",
      "\n",
      "for i in range(5):\n",
      "    pirnt(i)\n",
      "    i += 1\n",
      "\n",
      "if my_set is not None and my_dict['key4'] == 10:\n",
      "    pirnt(\"conditon met!\")\n",
      "\n",
      "if 5 not in my_dict:\n",
      "    pirnt(\"5 not found in the dictionaryy\")\n",
      "\n",
      "pirnt(global_varible)\n",
      "pirnt(my_dict)\n",
      "pirnt(my_set)\n",
      "\n"
     ]
    }
   ],
   "source": [
    "# Decrypting the code\n",
    "key = total\n",
    "decrypted_code = decrypt(encrypted_code, key)\n",
    "print(decrypted_code)"
   ]
  },
  {
   "cell_type": "markdown",
   "metadata": {},
   "source": [
    "### Summary of Changes:\n",
    "\n",
    "1. **Global Variable Typo:**  \n",
    "   Corrected `global_varible` to `global_variable` for consistency.\n",
    "\n",
    "2. **Process Numbers Function:**  \n",
    "   Removed unnecessary `numbers=my_set` argument in the function call, as `numbers` is defined locally.\n",
    "\n",
    "3. **Set Duplicates:**  \n",
    "   Simplified `my_set` by removing duplicate values (Python handles this automatically).\n",
    "\n",
    "4. **Function Call Correction:**  \n",
    "   Fixed `modify_dict(5)` to `modify_dict()` since the function does not require any arguments.\n",
    "\n",
    "5. **Print Statement Typos:**  \n",
    "   Corrected `pirnt` to `print` for proper output display.\n",
    "\n",
    "6. **Comments Added:**  \n",
    "   Included comments to explain key sections of the code."
   ]
  },
  {
   "cell_type": "code",
   "execution_count": 5,
   "metadata": {},
   "outputs": [
    {
     "name": "stdout",
     "output_type": "stream",
     "text": [
      "100\n",
      "{'key1': 'value1', 'key2': 'value2', 'key3': 'value3', 'key4': 10}\n",
      "{1, 2, 3, 4, 5}\n"
     ]
    }
   ],
   "source": [
    "#corrected code\n",
    "\n",
    "#Changed: Global variable\n",
    "global_variable = 100\n",
    "\n",
    "# Dictionary\n",
    "my_dict = {'key1': 'value1', 'key2': 'value2', 'key3': 'value3'}\n",
    "\n",
    "# Function to process numbers (remove local_variable from the list)\n",
    "def process_numbers():\n",
    "    global global_variable  \n",
    "    local_variable = 5  \n",
    "    numbers = [1, 2, 3, 4, 5]\n",
    "\n",
    "    # While loop to remove elements when the local_variable is non-negative\n",
    "    while local_variable > 0:\n",
    "        if local_variable >= 0:  \n",
    "            numbers.remove(local_variable)\n",
    "            # Decrement the count of local variable\n",
    "            local_variable -= 1  \n",
    "\n",
    "    return numbers\n",
    "\n",
    "#changed: as Set declaration auto removes duplicates\n",
    "my_set = {1, 2, 3, 4, 5}\n",
    "\n",
    "#Changed:  Corrected function call without passing my_set (since it doesn't requite any argument)\n",
    "result = process_numbers()\n",
    "\n",
    "#modify the dictionary by adding a new pair\n",
    "def modify_dict():\n",
    "    local_variable = 10\n",
    "    my_dict['key4'] = local_variable\n",
    "\n",
    "#changed: Function call to modify the dictionary (no arguments are needed)\n",
    "modify_dict()\n",
    "\n",
    "#changed: corrected pirnt to print\n",
    "print(global_variable) \n",
    "print(my_dict)  \n",
    "print(my_set)"
   ]
  },
  {
   "cell_type": "code",
   "execution_count": null,
   "metadata": {},
   "outputs": [],
   "source": []
  }
 ],
 "metadata": {
  "kernelspec": {
   "display_name": "hit140env",
   "language": "python",
   "name": "python3"
  },
  "language_info": {
   "codemirror_mode": {
    "name": "ipython",
    "version": 3
   },
   "file_extension": ".py",
   "mimetype": "text/x-python",
   "name": "python",
   "nbconvert_exporter": "python",
   "pygments_lexer": "ipython3",
   "version": "3.9.7"
  }
 },
 "nbformat": 4,
 "nbformat_minor": 2
}
